{
 "cells": [
  {
   "cell_type": "markdown",
   "metadata": {},
   "source": [
    "# Lecture 02 - Linear Regression"
   ]
  },
  {
   "cell_type": "markdown",
   "metadata": {},
   "source": [
    "(Linear) Hypothesis\n",
    "\n",
    ": 보유한 데이터가 Linear한 모델에 잘 맞아 떨어질 것이다.\n",
    "$$\n",
    "H(x) = W\\cdot x + b\n",
    "$$\n",
    "<br>어떤 가설이 더 좋은 가설(W, b)인지 판단하기 위해 cost function 사용\n",
    "\n",
    "<br>Cost Function\n",
    "\n",
    ": 직선이 얼마나 (training) 데이터에 맞아 떨어지는가\n",
    "$$\n",
    "(H(x) - y)^2\n",
    "$$\n",
    "<br>\n",
    "$$\n",
    "cost(W, b) = \\frac{1}{m}\\sum_{k=1}^m (H(x^{(i)}) - y^{(i)})^2\n",
    "$$"
   ]
  },
  {
   "cell_type": "code",
   "execution_count": null,
   "metadata": {},
   "outputs": [],
   "source": []
  }
 ],
 "metadata": {
  "kernelspec": {
   "display_name": "Python 3",
   "language": "python",
   "name": "python3"
  },
  "language_info": {
   "codemirror_mode": {
    "name": "ipython",
    "version": 3
   },
   "file_extension": ".py",
   "mimetype": "text/x-python",
   "name": "python",
   "nbconvert_exporter": "python",
   "pygments_lexer": "ipython3",
   "version": "3.6.5"
  }
 },
 "nbformat": 4,
 "nbformat_minor": 2
}
