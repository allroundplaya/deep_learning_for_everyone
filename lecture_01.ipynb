{
 "cells": [
  {
   "cell_type": "markdown",
   "metadata": {},
   "source": [
    "# Lecture 01 - ML, TensorFlow Basics"
   ]
  },
  {
   "cell_type": "markdown",
   "metadata": {},
   "source": [
    "### 1. Machine Learning"
   ]
  },
  {
   "cell_type": "markdown",
   "metadata": {},
   "source": [
    "Machine Learning\n",
    "- 명시적 프로그래밍(explicit programming)의 한계로 탄생\n",
    "- 명시적으로 프로그래밍 하지 않아도 컴퓨터가 학습할 수 있는 능력을 부여하는 것. \n",
    "\n",
    "Supervised Learning<br>\n",
    ": 라벨이 있는 example들(training set)을 통해 학습한다. regression(점수 예측), binary classification(pass or not), multi-label classification(개, 고양이, 말)으로 나뉜다.\n",
    "\n",
    "Unsupervised Learning<br>\n",
    ": 라벨이 없는 데이터를 통해 학습한다. ex) 구글 뉴스 그룹핑, 등"
   ]
  },
  {
   "cell_type": "markdown",
   "metadata": {},
   "source": [
    "### 2. Tensorflow"
   ]
  },
  {
   "cell_type": "markdown",
   "metadata": {},
   "source": [
    "TensorFlow는 수치 계산을 위한 오픈소스 소프트웨어 라이브러리로 data flow graph를 이용한다.\n",
    "\n",
    "※ Data Flow Graph\n",
    "- node: mathematical operations\n",
    "- edge: multidimensional data arrays(tensors) communicated between them."
   ]
  },
  {
   "cell_type": "code",
   "execution_count": 3,
   "metadata": {},
   "outputs": [],
   "source": [
    "import tensorflow as tf"
   ]
  },
  {
   "cell_type": "markdown",
   "metadata": {},
   "source": [
    "\"Hello, TensorFlow\"라는 constant 노드를 만들고, 세션을 만든 뒤 실행시키기.\n",
    "\n",
    "(출력된 결과 중 b는 Byte literal(String)이라는 것을 의미한다.)"
   ]
  },
  {
   "cell_type": "code",
   "execution_count": 4,
   "metadata": {},
   "outputs": [
    {
     "name": "stdout",
     "output_type": "stream",
     "text": [
      "b'Hello, TensorFlow!'\n"
     ]
    }
   ],
   "source": [
    "# Create a constant op\n",
    "# This op is added as a node to the default graph\n",
    "hello = tf.constant(\"Hello, TensorFlow!\")\n",
    "\n",
    "# start a TF session\n",
    "sess = tf.Session()\n",
    "\n",
    "# run the op and get result\n",
    "print(sess.run(hello))\n"
   ]
  },
  {
   "cell_type": "markdown",
   "metadata": {},
   "source": [
    "(1) Build graph(tensors) using TensorFlow operations\n",
    "\n",
    "(2) Feed data and run graph - sess.run(op)\n",
    "\n",
    "(3) Update variables in the graph(and return values)"
   ]
  },
  {
   "cell_type": "code",
   "execution_count": 15,
   "metadata": {},
   "outputs": [],
   "source": [
    "node1 = tf.constant(3.0, tf.float32)\n",
    "node2 = tf.constant(4.0) # also tf.float32 implicitly\n",
    "node3 = tf.add(node1, node2)\n",
    "# node3 = node1 + node2"
   ]
  },
  {
   "cell_type": "code",
   "execution_count": 16,
   "metadata": {},
   "outputs": [
    {
     "name": "stdout",
     "output_type": "stream",
     "text": [
      "node1:  Tensor(\"Const_9:0\", shape=(), dtype=float32) node2:  Tensor(\"Const_10:0\", shape=(), dtype=float32)\n",
      "node3:  Tensor(\"Add_4:0\", shape=(), dtype=float32)\n"
     ]
    }
   ],
   "source": [
    "print(\"node1: \", node1, \"node2: \", node2)\n",
    "print(\"node3: \", node3)"
   ]
  },
  {
   "cell_type": "code",
   "execution_count": 17,
   "metadata": {},
   "outputs": [
    {
     "name": "stdout",
     "output_type": "stream",
     "text": [
      "sess.run([node1, node2]):  [3.0, 4.0]\n",
      "sess.run(node3):  7.0\n"
     ]
    }
   ],
   "source": [
    "sess = tf.Session()\n",
    "print(\"sess.run([node1, node2]): \", sess.run([node1, node2]))\n",
    "print(\"sess.run(node3): \", sess.run(node3))"
   ]
  },
  {
   "cell_type": "markdown",
   "metadata": {},
   "source": [
    "<b>Placeholder</b>\n",
    "\n",
    ": graph를 미리 만들어 놓고 실행시키는 단계에서 값들을 전달하고 싶을 때 사용."
   ]
  },
  {
   "cell_type": "code",
   "execution_count": 20,
   "metadata": {},
   "outputs": [
    {
     "name": "stdout",
     "output_type": "stream",
     "text": [
      "7.5\n",
      "[3. 7.]\n"
     ]
    }
   ],
   "source": [
    "a = tf.placeholder(tf.float32)\n",
    "b = tf.placeholder(tf.float32)\n",
    "adder_node = a+b # + provides a shortcut for tf.add(a, b)\n",
    "\n",
    "print(sess.run(adder_node, \n",
    "               feed_dict={\n",
    "                   a: 3, \n",
    "                   b: 4.5\n",
    "               }))\n",
    "print(sess.run(adder_node, \n",
    "               feed_dict={\n",
    "                   a: [1, 3],\n",
    "                   b: [2, 4]\n",
    "               }))"
   ]
  }
 ],
 "metadata": {
  "kernelspec": {
   "display_name": "Python 3",
   "language": "python",
   "name": "python3"
  },
  "language_info": {
   "codemirror_mode": {
    "name": "ipython",
    "version": 3
   },
   "file_extension": ".py",
   "mimetype": "text/x-python",
   "name": "python",
   "nbconvert_exporter": "python",
   "pygments_lexer": "ipython3",
   "version": "3.6.5"
  }
 },
 "nbformat": 4,
 "nbformat_minor": 2
}
